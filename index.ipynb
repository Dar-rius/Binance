{
 "cells": [
  {
   "cell_type": "markdown",
   "id": "de959f62",
   "metadata": {},
   "source": [
    "# Importation"
   ]
  },
  {
   "cell_type": "code",
   "execution_count": 1,
   "id": "3700190f",
   "metadata": {},
   "outputs": [],
   "source": [
    "import numpy as np\n",
    "import matplotlib.pyplot as plt\n",
    "import pandas as pd"
   ]
  },
  {
   "cell_type": "code",
   "execution_count": 2,
   "id": "34614daf",
   "metadata": {},
   "outputs": [
    {
     "name": "stdout",
     "output_type": "stream",
     "text": [
      "<bound method NDFrame.head of               Date  Price(in dollars)    Open    High     Low     Vol.  \\\n",
      "0     Jul 27, 2021             303.29  304.31  307.62  298.53    2.26M   \n",
      "1     Jul 26, 2021             304.31  302.60  327.62  301.19    2.86M   \n",
      "2     Jul 25, 2021             302.57  302.55  303.09  292.85    1.25M   \n",
      "3     Jul 24, 2021             303.15  298.91  305.01  296.16    1.81M   \n",
      "4     Jul 23, 2021             298.89  293.51  301.15  281.68    1.98M   \n",
      "...            ...                ...     ...     ...     ...      ...   \n",
      "1352  Nov 13, 2017               1.68    1.49    1.74    1.49  166.01K   \n",
      "1353  Nov 12, 2017               1.49    1.66    1.70    1.34  456.48K   \n",
      "1354  Nov 11, 2017               1.66    1.71    1.93    1.58  256.71K   \n",
      "1355  Nov 10, 2017               1.71    1.99    2.02    1.60  483.23K   \n",
      "1356  Nov 09, 2017               1.99    1.99    2.20    1.90  283.35K   \n",
      "\n",
      "      Change%  \n",
      "0       -0.33  \n",
      "1        0.58  \n",
      "2       -0.19  \n",
      "3        1.42  \n",
      "4        1.83  \n",
      "...       ...  \n",
      "1352    12.75  \n",
      "1353   -10.24  \n",
      "1354    -2.92  \n",
      "1355   -14.07  \n",
      "1356     0.00  \n",
      "\n",
      "[1357 rows x 7 columns]>\n"
     ]
    }
   ],
   "source": [
    "df = pd.read_csv('binance/binanceFile.csv')\n",
    "print(df.head)"
   ]
  },
  {
   "cell_type": "code",
   "execution_count": 3,
   "id": "45598e1e",
   "metadata": {},
   "outputs": [
    {
     "data": {
      "text/plain": [
       "False"
      ]
     },
     "execution_count": 3,
     "metadata": {},
     "output_type": "execute_result"
    }
   ],
   "source": [
    "#check the value nan\n",
    "df.isnull().values.any()"
   ]
  },
  {
   "cell_type": "code",
   "execution_count": 4,
   "id": "592da178",
   "metadata": {},
   "outputs": [
    {
     "name": "stdout",
     "output_type": "stream",
     "text": [
      "        Open    High     Low  Change%\n",
      "0     304.31  307.62  298.53    -0.33\n",
      "1     302.60  327.62  301.19     0.58\n",
      "2     302.55  303.09  292.85    -0.19\n",
      "3     298.91  305.01  296.16     1.42\n",
      "4     293.51  301.15  281.68     1.83\n",
      "...      ...     ...     ...      ...\n",
      "1352    1.49    1.74    1.49    12.75\n",
      "1353    1.66    1.70    1.34   -10.24\n",
      "1354    1.71    1.93    1.58    -2.92\n",
      "1355    1.99    2.02    1.60   -14.07\n",
      "1356    1.99    2.20    1.90     0.00\n",
      "\n",
      "[1357 rows x 4 columns] (1357, 4)\n",
      "0       303.29\n",
      "1       304.31\n",
      "2       302.57\n",
      "3       303.15\n",
      "4       298.89\n",
      "         ...  \n",
      "1352      1.68\n",
      "1353      1.49\n",
      "1354      1.66\n",
      "1355      1.71\n",
      "1356      1.99\n",
      "Name: Price(in dollars), Length: 1357, dtype: float64 (1357,)\n"
     ]
    }
   ],
   "source": [
    "features = df.drop(['Date', 'Price(in dollars)', 'Vol.'], axis =1)\n",
    "targets = df['Price(in dollars)']\n",
    "print(features, features.shape)\n",
    "print(targets, targets.shape)"
   ]
  },
  {
   "cell_type": "markdown",
   "id": "6414309e",
   "metadata": {},
   "source": [
    "# Visualization"
   ]
  },
  {
   "cell_type": "code",
   "execution_count": 5,
   "id": "7700b8a4",
   "metadata": {},
   "outputs": [
    {
     "data": {
      "image/png": "[encoded data removed]",
      "text/plain": [
       "<Figure size 432x288 with 1 Axes>"
      ]
     },
     "metadata": {
      "needs_background": "light"
     },
     "output_type": "display_data"
    },
    {
     "name": "stdout",
     "output_type": "stream",
     "text": [
      "(1357,)\n"
     ]
    },
    {
     "data": {
      "image/png": "[encoded data removed]",
      "text/plain": [
       "<Figure size 432x288 with 1 Axes>"
      ]
     },
     "metadata": {
      "needs_background": "light"
     },
     "output_type": "display_data"
    },
    {
     "name": "stdout",
     "output_type": "stream",
     "text": [
      "(1357, 4)\n"
     ]
    }
   ],
   "source": [
    "plt.figure()\n",
    "plt.plot(targets)\n",
    "plt.show()\n",
    "print(targets.shape)\n",
    "\n",
    "plt.figure()\n",
    "plt.plot(features['Change%'])\n",
    "plt.show()\n",
    "print(features.shape)"
   ]
  },
  {
   "cell_type": "markdown",
   "id": "b8c29fe3",
   "metadata": {},
   "source": [
    "# Preprocessing"
   ]
  },
  {
   "cell_type": "code",
   "execution_count": 6,
   "id": "a44ed526",
   "metadata": {},
   "outputs": [
    {
     "name": "stdout",
     "output_type": "stream",
     "text": [
      "features:  [[1030. 1018. 1025.  406.]\n",
      " [1027. 1039. 1029.  478.]\n",
      " [1026. 1012. 1021.  417.]\n",
      " ...\n",
      " [  12.   11.    7.  239.]\n",
      " [  19.   14.    8.   14.]\n",
      " [  19.   19.   15.  431.]]\n",
      "targets:  [1034 1035 1030 ...    9   12   19]\n"
     ]
    }
   ],
   "source": [
    "#encoding\n",
    "from sklearn.preprocessing import OrdinalEncoder, LabelEncoder\n",
    "encoder_X = OrdinalEncoder()\n",
    "encoder_x = encoder_X.fit_transform(features)\n",
    "print('features: ',encoder_x)\n",
    "\n",
    "encoder_Y = LabelEncoder()\n",
    "encoder_y = encoder_Y.fit_transform(targets)\n",
    "print('targets: ',encoder_y)"
   ]
  },
  {
   "cell_type": "code",
   "execution_count": 7,
   "id": "79ed30c2",
   "metadata": {},
   "outputs": [
    {
     "name": "stdout",
     "output_type": "stream",
     "text": [
      "[ True  True  True  True]\n"
     ]
    }
   ],
   "source": [
    "#selectKbest\n",
    "from sklearn.feature_selection import SelectKBest, chi2\n",
    "chi2(encoder_x, encoder_y)\n",
    "select = SelectKBest(chi2, k=4)\n",
    "select.fit(encoder_x, encoder_y)\n",
    "print(select.get_support())"
   ]
  },
  {
   "cell_type": "code",
   "execution_count": 8,
   "id": "a2469c5c",
   "metadata": {},
   "outputs": [
    {
     "name": "stdout",
     "output_type": "stream",
     "text": [
      "features: (array([[116., 104., 102.,  10.],\n",
      "       [835., 854., 832., 770.],\n",
      "       [256., 234., 248., 336.],\n",
      "       ...,\n",
      "       [150., 157., 130., 127.],\n",
      "       [359., 349., 372., 571.],\n",
      "       [ 80.,  68.,  79., 181.]]), array([[450., 486., 458., 732.],\n",
      "       [768., 750., 748., 431.],\n",
      "       [833., 828., 825., 457.],\n",
      "       ...,\n",
      "       [  5.,   1.,   6., 571.],\n",
      "       [380., 358., 393., 439.],\n",
      "       [906., 909., 896., 730.]])) \n",
      " targets: (array([101, 875, 249, ..., 129, 377,  67]), array([ 488,  769,  839,  192, 1086,  293,  753,  243,   16,  127,  890,\n",
      "        617,  363,  470,  654,  491,  810,  775,  218,  318,  774,  460,\n",
      "        326, 1102,  515,  467,  865,  843,  528,  247,  877,  288, 1097,\n",
      "        538,  162,  116,  590,  105,  450,  952, 1057,  779,  777,  475,\n",
      "        144,  749,  217,  806,  970,  919,  657,  949,  234,  633,  438,\n",
      "        765,  496,  292,  716,  379,  738,   69,  818,  506,  353, 1121,\n",
      "        298,  907,  456,   45,  466, 1127,  279,  805,  416,  277,  369,\n",
      "        252,  631,  554,   72,  545,  538,  205,  873,  399,  294,  333,\n",
      "        306,  574,   84,  800,  363,  206,  692,  728,   55,  227,  275,\n",
      "        769, 1081,    3,  369,   63,  192,  796,  337,    8, 1063,  526,\n",
      "        140,  604,  284,   60, 1111,    5,  718,  972,  282,  163,  497,\n",
      "       1071,  259,   13,  163,  517,  178,  833,  456,  432,  698,  751,\n",
      "        419,  987,  217,  857,  686,  222,  439,  514,  338,  848,  424,\n",
      "        480,  349,  427,  742,  503,  596, 1117,  229,   78,  101,  827,\n",
      "        325, 1024,  719,  748,   28,  121,  195,  909,  737,  733,  168,\n",
      "        130,  492,  170, 1044,  836,  527,  622,  351,  309,  575,   52,\n",
      "        962,  644,  344,  894, 1053,  706,  414,  931,  551,  713,  669,\n",
      "        274,  377, 1085,  764,  883,  429,  878,  520,  359,  504,  145,\n",
      "        228,  269,  519,  300,  328,  897,  705,  792,  969,  317,  994,\n",
      "       1011,  125,  211,  864,  618,  710,   44,  887,  832,   66,  402,\n",
      "         57,  926, 1115,  595,  447,  378,  194,  465,  472, 1075,  513,\n",
      "        572,  104,  215,  677,   75,   93,  715,  523,   76,  660, 1049,\n",
      "         34,   11,  428, 1103, 1119,  448,  603,  606,  888,  270, 1098,\n",
      "         93,  876,  458,  315,  163,  446,  164,  444,   81,  848,  790,\n",
      "        881,  696,  801,  911, 1040,    7,  382,  915]))\n"
     ]
    }
   ],
   "source": [
    "#train test split\n",
    "from sklearn.model_selection import train_test_split\n",
    "fea_train, fea_test, tar_train, tar_test = train_test_split(encoder_x, encoder_y, test_size=.2)\n",
    "print(f'features: {fea_train, fea_test} \\n targets: {tar_train, tar_test}')"
   ]
  },
  {
   "cell_type": "markdown",
   "id": "29ea4576",
   "metadata": {},
   "source": [
    "# Modeling"
   ]
  },
  {
   "cell_type": "code",
   "execution_count": 9,
   "id": "ea77d2b3",
   "metadata": {},
   "outputs": [
    {
     "name": "stdout",
     "output_type": "stream",
     "text": [
      "0.9990541864215934\n",
      "0.9990863335274398\n"
     ]
    }
   ],
   "source": [
    "from sklearn.linear_model import Lasso, SGDRegressor\n",
    "from sklearn.pipeline import make_pipeline\n",
    "from sklearn.preprocessing import StandardScaler\n",
    "scaler = StandardScaler()\n",
    "lasso = make_pipeline(scaler, Lasso())\n",
    "regressor = make_pipeline(scaler, SGDRegressor())\n",
    "\n",
    "for model in (lasso, regressor):\n",
    "    model.fit(fea_train , tar_train)\n",
    "    print(model.score(fea_test, tar_test))"
   ]
  },
  {
   "cell_type": "code",
   "execution_count": 10,
   "id": "adb5c0fc",
   "metadata": {},
   "outputs": [
    {
     "name": "stdout",
     "output_type": "stream",
     "text": [
      "[286.31522245 295.57934275 281.84881298 ... -17.2181609  -17.72641963\n",
      " -16.76611961]\n"
     ]
    },
    {
     "data": {
      "text/plain": [
       "<matplotlib.legend.Legend at 0x7f496f3b2880>"
      ]
     },
     "execution_count": 10,
     "metadata": {},
     "output_type": "execute_result"
    },
    {
     "data": {
      "image/png": "[encoded data removed]",
      "text/plain": [
       "<Figure size 432x288 with 1 Axes>"
      ]
     },
     "metadata": {
      "needs_background": "light"
     },
     "output_type": "display_data"
    }
   ],
   "source": [
    "#predict\n",
    "predict = regressor.predict(features)\n",
    "print(predict)\n",
    "plt.plot(predict, label='predict')\n",
    "plt.plot(targets, label='targets')\n",
    "plt.legend()"
   ]
  },
  {
   "cell_type": "code",
   "execution_count": null,
   "id": "949df389",
   "metadata": {},
   "outputs": [],
   "source": []
  }
 ],
 "metadata": {
  "kernelspec": {
   "display_name": "Python 3 (ipykernel)",
   "language": "python",
   "name": "python3"
  },
  "language_info": {
   "codemirror_mode": {
    "name": "ipython",
    "version": 3
   },
   "file_extension": ".py",
   "mimetype": "text/x-python",
   "name": "python",
   "nbconvert_exporter": "python",
   "pygments_lexer": "ipython3",
   "version": "3.9.5"
  }
 },
 "nbformat": 4,
 "nbformat_minor": 5
}
